{
 "cells": [
  {
   "cell_type": "markdown",
   "id": "8cefec35",
   "metadata": {},
   "source": [
    "# Challenges"
   ]
  },
  {
   "cell_type": "markdown",
   "id": "d244041e",
   "metadata": {},
   "source": [
    "### 1. Write a function which will take string as an input and return a len of it without using the inbuilt function len()"
   ]
  },
  {
   "cell_type": "code",
   "execution_count": null,
   "id": "05aef4ee",
   "metadata": {},
   "outputs": [],
   "source": [
    "def lenOfString(string):\n",
    "    \"\"\"This method takes a string as an input and returns the length of a string without using the default len() function\"\"\"\n",
    "    count = 0\n",
    "    for i in string:\n",
    "        count += 1\n",
    "    return count\n",
    "        "
   ]
  },
  {
   "cell_type": "code",
   "execution_count": null,
   "id": "27c584fb",
   "metadata": {},
   "outputs": [],
   "source": [
    "lenOfString(\"Rakesh\")"
   ]
  },
  {
   "cell_type": "code",
   "execution_count": null,
   "id": "4000165d",
   "metadata": {},
   "outputs": [],
   "source": [
    "write a fun which will be able to print an index of all premitive element which you will pass"
   ]
  },
  {
   "cell_type": "markdown",
   "id": "0926876e",
   "metadata": {},
   "source": [
    "### 2. Write a function which will be able to print an index of all primitive elements which you will pass"
   ]
  },
  {
   "cell_type": "code",
   "execution_count": null,
   "id": "60e30537",
   "metadata": {},
   "outputs": [],
   "source": [
    "def getIndex(element):\n",
    "    \"\"\"This method takes any primitve elements and returns the index of all elements\"\"\"\n",
    "    if type(element)==str or type(element)==list or type(element)==tuple:\n",
    "        for i in range(len(element)):\n",
    "            print(\"{} is at the index {}\".format(element[i],i))\n",
    "    else:\n",
    "        return \"Sorry..! I can handle only string, list or tuple\"\n",
    "        "
   ]
  },
  {
   "cell_type": "code",
   "execution_count": null,
   "id": "57f6a7c0",
   "metadata": {},
   "outputs": [],
   "source": [
    "#getIndex(\"Rakesh\")\n",
    "#getIndex([1,1,1,12,3,4])\n",
    "#getIndex((1,2,3,4,5,5,5))\n",
    "getIndex({1,2,3,4,5,5,5})"
   ]
  },
  {
   "cell_type": "markdown",
   "id": "f36c3bf2",
   "metadata": {},
   "source": [
    "### 3. Write a fun which will take input as a dict and give me out as a list of all the values even in case of 2 level nesting it should work ."
   ]
  },
  {
   "cell_type": "code",
   "execution_count": null,
   "id": "21c7390d",
   "metadata": {},
   "outputs": [],
   "source": [
    "def listOfElements(Data):\n",
    "    \"\"\"This method takes the dictionary or nested dictionary and returns the list of all values\"\"\"\n",
    "    out = []\n",
    "    if type(Data)==dict:\n",
    "        for i in Data.values():\n",
    "            if (type(i) == dict):\n",
    "                for j in i.values():\n",
    "                    out.append(j)\n",
    "            elif type(i)==list or type(i)==tuple or type(i)==set:\n",
    "                for j in i:\n",
    "                    out.append(j)\n",
    "            elif type(i)==int or type(i)==float or type(i)==str or type(i)==complex:\n",
    "                out.append(i)\n",
    "            else:\n",
    "                return \"Sorry..!, I can handle only list, tuple, set or dictionary as value\"\n",
    "    else:\n",
    "        return \"Kindly pass only Dictionary\"\n",
    "    return out"
   ]
  },
  {
   "cell_type": "code",
   "execution_count": null,
   "id": "b019821c",
   "metadata": {},
   "outputs": [],
   "source": [
    "#listOfElements({'name':'Rakesh','1':[1,2,34],'dict':{'a':'b'}})\n",
    "listOfElements([1,2,3])"
   ]
  },
  {
   "cell_type": "markdown",
   "id": "f003cc89",
   "metadata": {},
   "source": [
    "### 4. Write a fun which will take another function as an input and return me an output"
   ]
  },
  {
   "cell_type": "code",
   "execution_count": null,
   "id": "91918af8",
   "metadata": {},
   "outputs": [],
   "source": [
    "def cube(square,number):\n",
    "    \"\"\"This method accepts another function and returns the output\"\"\"\n",
    "    if square is not None:\n",
    "        resultFromSquare = square(number)\n",
    "        return resultFromSquare * number\n",
    "    else:\n",
    "        return \"Kindly pass some function\""
   ]
  },
  {
   "cell_type": "code",
   "execution_count": null,
   "id": "3efcae86",
   "metadata": {},
   "outputs": [],
   "source": [
    "def square(num):\n",
    "    \"\"\"This method returns the square of a number\"\"\"\n",
    "    return num*num"
   ]
  },
  {
   "cell_type": "code",
   "execution_count": null,
   "id": "7971d9f2",
   "metadata": {},
   "outputs": [],
   "source": [
    "cube(square,4)\n",
    "cube(square,5)"
   ]
  },
  {
   "cell_type": "markdown",
   "id": "7d665cf3",
   "metadata": {},
   "source": [
    "### 5. Write a function which will take multiple list as a input and give me concatenation of all the element as an output "
   ]
  },
  {
   "cell_type": "code",
   "execution_count": null,
   "id": "cb4aee87",
   "metadata": {},
   "outputs": [],
   "source": [
    "def concatenate(*args):\n",
    "    \"\"\"This method takes multiple lists as an input and returns concatenation of all the elements as an output \"\"\"\n",
    "    output = []\n",
    "    for i in args:\n",
    "        if type(i)==list:\n",
    "            output.extend(i)\n",
    "        else:\n",
    "            return \"Kindly pass only lists as an input\"\n",
    "    return output"
   ]
  },
  {
   "cell_type": "code",
   "execution_count": null,
   "id": "3dc8d212",
   "metadata": {},
   "outputs": [],
   "source": [
    "concatenate([1,2,3],[4,5,6],[7,8,9+8j])"
   ]
  },
  {
   "cell_type": "markdown",
   "id": "d73987c4",
   "metadata": {},
   "source": [
    "### 6. Write a function which will be able to take a list as an input return an index of each element like a inbuilt index function but even if we have repetative element it should return index"
   ]
  },
  {
   "cell_type": "code",
   "execution_count": null,
   "id": "7e2e523e",
   "metadata": {},
   "outputs": [],
   "source": [
    "def indexOfListElements(l1):\n",
    "    \"\"\"This method is used to print out the index of elements\"\"\"\n",
    "    if type(l1)==list:\n",
    "        print(\"The List passed is : {}\".format(l1))\n",
    "        element = int(input(\"Please enter the element for which you need the index : \"))\n",
    "        if element in l1:\n",
    "            for i in range(len(l1)):\n",
    "                if l1[i]==element:\n",
    "                    print('The index of element {} is {}'.format(l1[i],i))\n",
    "        else:\n",
    "            return \"The element {} is absent in the provided list {}\".format(element,l1)\n",
    "    else:\n",
    "        return \"Hello, Sorry..!, I can handle only list\""
   ]
  },
  {
   "cell_type": "code",
   "execution_count": null,
   "id": "7f0d173d",
   "metadata": {},
   "outputs": [],
   "source": [
    "indexOfListElements([1,2,3,4,1])"
   ]
  },
  {
   "cell_type": "markdown",
   "id": "63324078",
   "metadata": {},
   "source": [
    "### 7. Write a function which whould return list of all the file name from a directory"
   ]
  },
  {
   "cell_type": "code",
   "execution_count": null,
   "id": "9aeb5f57",
   "metadata": {},
   "outputs": [],
   "source": [
    "import os\n",
    "def listOfFiles(path):\n",
    "    \"\"\"This function takes the path of the directory as in input and returns the list of all files in that directory as an output\"\"\"\n",
    "    if path is not None:\n",
    "        return os.listdir(path)\n",
    "    else:\n",
    "        return \"Path of the directory cannot be None\""
   ]
  },
  {
   "cell_type": "code",
   "execution_count": null,
   "id": "8372f9ec",
   "metadata": {},
   "outputs": [],
   "source": [
    "listOfFiles(\"E:\\TCS_Docs\\Form_16\")"
   ]
  },
  {
   "cell_type": "markdown",
   "id": "516f7fb8",
   "metadata": {},
   "source": [
    "### 8. Write a function which will be able to show your system configuration"
   ]
  },
  {
   "cell_type": "code",
   "execution_count": null,
   "id": "65d97cc6",
   "metadata": {},
   "outputs": [],
   "source": [
    "import platform\n",
    "print(platform.machine())\n",
    "print(platform.version())\n",
    "print(platform.architecture())\n",
    "print(platform.system())\n",
    "print(platform.processor())\n",
    "print(platform.uname())"
   ]
  },
  {
   "cell_type": "code",
   "execution_count": null,
   "id": "983ef9c7",
   "metadata": {},
   "outputs": [],
   "source": [
    "import platform\n",
    "\n",
    "def getSystemConfig():\n",
    "    \"\"\"This method is used to fetch the system configuration\"\"\"\n",
    "    result = {}\n",
    "    result['Machine'] = platform.machine()\n",
    "    result['Version'] = platform.version()\n",
    "    result['Architecture'] = platform.architecture()\n",
    "    result['System'] = platform.system()\n",
    "    result['Processor'] = platform.processor()\n",
    "    return result"
   ]
  },
  {
   "cell_type": "code",
   "execution_count": null,
   "id": "a49fa723",
   "metadata": {},
   "outputs": [],
   "source": [
    "getSystemConfig()"
   ]
  },
  {
   "cell_type": "markdown",
   "id": "5edba0da",
   "metadata": {},
   "source": [
    "### 9. Write a function which will be able to show date and time "
   ]
  },
  {
   "cell_type": "code",
   "execution_count": null,
   "id": "b0470e62",
   "metadata": {},
   "outputs": [],
   "source": [
    "from datetime import datetime\n",
    "\n",
    "def getDateTime():\n",
    "    \"\"\"This method is used to get the date and time\"\"\"\n",
    "    return datetime.astimezone(datetime.now())"
   ]
  },
  {
   "cell_type": "code",
   "execution_count": null,
   "id": "2a53091f",
   "metadata": {},
   "outputs": [],
   "source": [
    "getDateTime()"
   ]
  },
  {
   "cell_type": "markdown",
   "id": "f4b73c82",
   "metadata": {},
   "source": [
    "### 10. Write a function which will be able to read a image file and show it to you"
   ]
  },
  {
   "cell_type": "code",
   "execution_count": null,
   "id": "9d592e61",
   "metadata": {},
   "outputs": [],
   "source": [
    "from PIL import Image\n",
    "def loadImage(path):\n",
    "    \"\"\"This function is used to view the image\n",
    "       complete path of the image should be passed as an argument\n",
    "    \"\"\"\n",
    "    if path is not None:\n",
    "        file = Image.open(path)\n",
    "    else:\n",
    "        return \"Path of the image cannot be none\"\n",
    "    return file.show()\n",
    "    "
   ]
  },
  {
   "cell_type": "code",
   "execution_count": null,
   "id": "917c3804",
   "metadata": {},
   "outputs": [],
   "source": [
    "loadImage(\"E:\\ID\\PAN.jpg\")"
   ]
  },
  {
   "cell_type": "markdown",
   "id": "cdf54d86",
   "metadata": {},
   "source": [
    "### 11. Write a function which can read video file and play for you."
   ]
  },
  {
   "cell_type": "code",
   "execution_count": null,
   "id": "395c68bb",
   "metadata": {},
   "outputs": [],
   "source": [
    "!pip install opencv-python"
   ]
  },
  {
   "cell_type": "code",
   "execution_count": null,
   "id": "3e51fedb",
   "metadata": {},
   "outputs": [],
   "source": [
    "import cv2\n",
    "\n",
    "def playVideo(path):\n",
    "    \"\"\"This function can read the video file and play it\n",
    "       path of the file cannot be null\n",
    "    \"\"\"\n",
    "    if path is not None:\n",
    "        cap = cv2.VideoCapture(path)\n",
    "        while(cap.isOpened()):\n",
    "            ret, frame = cap.read()\n",
    "            if ret == True:\n",
    "                cv2.imshow('Frame', frame)\n",
    "                if cv2.waitKey(25) & 0xFF == ord('q'):\n",
    "                    break\n",
    "            else:\n",
    "                print('Please verify the path')\n",
    "                break\n",
    "        cap.release()\n",
    "        cv2.destroyAllWindows()\n",
    "    else:\n",
    "        return \"Path of the video file cannot be null\""
   ]
  },
  {
   "cell_type": "code",
   "execution_count": null,
   "id": "d91f6c64",
   "metadata": {},
   "outputs": [],
   "source": [
    "playVideo(r\"C:\\Users\\RAKESH HR\\Downloads\\sample-mp4-file.mp4\")"
   ]
  },
  {
   "cell_type": "code",
   "execution_count": null,
   "id": "7e4cab21",
   "metadata": {},
   "outputs": [],
   "source": [
    "!pip install ffpyplayer"
   ]
  },
  {
   "cell_type": "code",
   "execution_count": null,
   "id": "3b187256",
   "metadata": {},
   "outputs": [],
   "source": [
    "from ffpyplayer.player import MediaPlayer"
   ]
  },
  {
   "cell_type": "code",
   "execution_count": null,
   "id": "89a3ce53",
   "metadata": {},
   "outputs": [],
   "source": [
    "MediaPlayer(r\"C:\\Users\\RAKESH HR\\Downloads\\sample-mp4-file.mp4\")"
   ]
  },
  {
   "cell_type": "code",
   "execution_count": null,
   "id": "35a6a0b7",
   "metadata": {},
   "outputs": [],
   "source": [
    "import ffpyplayer"
   ]
  },
  {
   "cell_type": "markdown",
   "id": "475ded8d",
   "metadata": {},
   "source": [
    "### 12. write a function which can move a file from one directory to another directory ."
   ]
  },
  {
   "cell_type": "code",
   "execution_count": null,
   "id": "68c7ba18",
   "metadata": {},
   "outputs": [],
   "source": [
    "import shutil\n",
    "def moveFile(sourcePath,DestinationPath):\n",
    "    \"\"\"This function is used to move a file from one directory to another directory\"\"\"\n",
    "    if sourcePath is None or sourcePath == \"\":\n",
    "        return \"Source Path cannot be Null\"\n",
    "    elif DestinationPath is None or DestinationPath == \"\":\n",
    "        return \"Destination path cannot be Null\"\n",
    "    else:\n",
    "        shutil.move(sourcePath,DestinationPath)"
   ]
  },
  {
   "cell_type": "code",
   "execution_count": null,
   "id": "e3903f9a",
   "metadata": {},
   "outputs": [],
   "source": [
    "moveFile(r\"C:\\Users\\RAKESH HR\\OneDrive\\Documents\\Test.txt\",r\"C:\\Users\\RAKESH HR\\Videos\\Captures\")"
   ]
  },
  {
   "cell_type": "markdown",
   "id": "cd4bfdba",
   "metadata": {},
   "source": [
    "### 13. Write a function which will be able to shutdown your system ."
   ]
  },
  {
   "cell_type": "code",
   "execution_count": null,
   "id": "3a2d960b",
   "metadata": {},
   "outputs": [],
   "source": [
    "import os\n",
    "def shutdown():\n",
    "    \"\"\"This method will shutdown your system\"\"\"\n",
    "    os.system('shu')"
   ]
  },
  {
   "cell_type": "markdown",
   "id": "af819dff",
   "metadata": {},
   "source": [
    "### 14. Write a function which will be able to access your mail "
   ]
  },
  {
   "cell_type": "code",
   "execution_count": null,
   "id": "10f195fa",
   "metadata": {},
   "outputs": [],
   "source": [
    "!pip install python-imap"
   ]
  },
  {
   "cell_type": "code",
   "execution_count": 1,
   "id": "025b4243",
   "metadata": {},
   "outputs": [],
   "source": [
    "import email\n",
    "import imaplib\n",
    "from cryptography.fernet import Fernet\n",
    "    \n",
    "def accessMail(mailId,password):\n",
    "    \"\"\"This function can be used to access mails 2 mails in inbox\"\"\"\n",
    "    if mailId is None or mailId == \"\":\n",
    "        return \"EmailID cannot be NUll\"\n",
    "    elif password is None or password == \"\":\n",
    "        return \"Password cannot be Null\"\n",
    "    else:\n",
    "        mail = imaplib.IMAP4_SSL(\"imap.gmail.com\")\n",
    "        mail.login(mailId,password)\n",
    "        mail.select('inbox')\n",
    "        data = mail.search(None,'all')\n",
    "        mail_ids = data[1]\n",
    "        id_list = mail_ids[0].split()   \n",
    "        first_email_id = int(id_list[0])\n",
    "        latest_email_id = int(id_list[-1])\n",
    "        for i in range(latest_email_id,latest_email_id-2,-1):\n",
    "            data = mail.fetch(str(i), '(RFC822)')\n",
    "            for response_part in data:\n",
    "                arr = response_part[0]\n",
    "                if isinstance(arr, tuple):\n",
    "                    msg = email.message_from_string(str(arr[1],'utf-8'))\n",
    "                    email_subject = msg['subject']\n",
    "                    email_from = msg['from']\n",
    "                    print('From : ' + email_from + '\\n')\n",
    "                    print('Subject : ' + email_subject + '\\n')\n",
    "                    print(\"Body : \",msg[''])\n",
    "            "
   ]
  },
  {
   "cell_type": "code",
   "execution_count": null,
   "id": "a742a80a",
   "metadata": {},
   "outputs": [],
   "source": [
    "accessMail(\"rakeshhr789@gmail.com\",\"********************\") "
   ]
  },
  {
   "cell_type": "markdown",
   "id": "4f007099",
   "metadata": {},
   "source": [
    "### 15. Write a function by which I can send a mail to anyone"
   ]
  },
  {
   "cell_type": "code",
   "execution_count": 3,
   "id": "c780d3b5",
   "metadata": {},
   "outputs": [],
   "source": [
    "import smtplib,ssl\n",
    "from email.message import EmailMessage\n",
    "\n",
    "def sendMail(maild,subject,body):\n",
    "    \"\"\"This function is used to send mail\"\"\"\n",
    "    if maild is None or maild == \"\":\n",
    "        return \"MailId cannot be Null\"\n",
    "    elif subject is None or subject == \"\":\n",
    "        return \"Subject Cannot be Null\"\n",
    "    elif body is None or body == \"\":\n",
    "        return \"Body cannot be null\"\n",
    "    else:\n",
    "        s = smtplib.SMTP('smtp.gmail.com', 587)\n",
    "        s.starttls()\n",
    "        s.login(\"rakeshhr789@gmail.com\", \"*****************\")\n",
    "        s.sendmail(\"rakeshhr789@gmail.com\",maild,body)\n",
    "        s.quit()"
   ]
  },
  {
   "cell_type": "code",
   "execution_count": null,
   "id": "9bddf3a7",
   "metadata": {},
   "outputs": [],
   "source": []
  },
  {
   "cell_type": "code",
   "execution_count": 4,
   "id": "9b883819",
   "metadata": {},
   "outputs": [],
   "source": [
    "sendMail('rakesharadhya1994@gmail.com','Test','Hi This is Test')"
   ]
  },
  {
   "cell_type": "code",
   "execution_count": null,
   "id": "36d6ded9",
   "metadata": {},
   "outputs": [],
   "source": []
  },
  {
   "cell_type": "markdown",
   "id": "9ec3ab4e",
   "metadata": {},
   "source": [
    "### 16. Write a function to read a complete PDf file ."
   ]
  },
  {
   "cell_type": "code",
   "execution_count": null,
   "id": "cca39818",
   "metadata": {},
   "outputs": [],
   "source": [
    "!pip install PyPDF2"
   ]
  },
  {
   "cell_type": "code",
   "execution_count": null,
   "id": "58cf9958",
   "metadata": {},
   "outputs": [],
   "source": [
    "import PyPDF2\n",
    "def readPDF(file):\n",
    "    \"\"\"This function can be used to read all the files of a PDF\"\"\"\n",
    "    if file is None or file == \"\":\n",
    "        return \"File cannot be Null\"\n",
    "    else:\n",
    "        if str(file).endswith(\".pdf\"):\n",
    "            PDFobject = PyPDF2.PdfFileReader(file)\n",
    "            NoOfPages = PDFobject.getNumPages()\n",
    "            for i in range(NoOfPages):\n",
    "                page = PDFobject.getPage(i)\n",
    "                print(\"This is Page Number \" + str(i))\n",
    "                Text = page.extractText()\n",
    "                print(Text)\n",
    "        else:\n",
    "            return \"Sorry..!, I can handle only PDF files\""
   ]
  },
  {
   "cell_type": "code",
   "execution_count": null,
   "id": "67726fee",
   "metadata": {},
   "outputs": [],
   "source": [
    "readPDF(r\"E:\\iNeuron\\FSDSMyBatch\\Data\\PDFReadDocument.pdf\")"
   ]
  },
  {
   "cell_type": "markdown",
   "id": "f0304f7b",
   "metadata": {},
   "source": [
    "### 17. Write a function to read a word file."
   ]
  },
  {
   "cell_type": "code",
   "execution_count": null,
   "id": "c4930a51",
   "metadata": {},
   "outputs": [],
   "source": [
    "!pip install textract"
   ]
  },
  {
   "cell_type": "code",
   "execution_count": null,
   "id": "1e8fa38b",
   "metadata": {},
   "outputs": [],
   "source": [
    "import textract\n",
    "def readWordDoc(file):\n",
    "    \"\"\"This method is used to read a word document\"\"\"\n",
    "    if file is None or file == \"\":\n",
    "        return \"File Path cannot be Null\"\n",
    "    else:\n",
    "        if str(file).endswith('.doc') or str(file).endswith('.docx'):\n",
    "            data = textract.process(file)\n",
    "            print(data)\n",
    "            \n",
    "        else:\n",
    "            return \"Sorry..!, I can handle only word documents\""
   ]
  },
  {
   "cell_type": "code",
   "execution_count": null,
   "id": "9a83356c",
   "metadata": {},
   "outputs": [],
   "source": [
    "readWordDoc(\"E:\\iNeuron\\FSDSMyBatch\\Data\\PDFReadDocument.docx\")"
   ]
  },
  {
   "cell_type": "markdown",
   "id": "8670cbf9",
   "metadata": {},
   "source": [
    "### 18. Write a function which can help you to filter only word file from a directory."
   ]
  },
  {
   "cell_type": "code",
   "execution_count": null,
   "id": "5ab29bf1",
   "metadata": {},
   "outputs": [],
   "source": [
    "import os\n",
    "def filterWordFiles(dirname):\n",
    "    \"\"\"This function is used to filter only word files in the given directory\"\"\"\n",
    "    if dirname is None or dirname == \"\":\n",
    "        return \"Dir Name cannot be null\"\n",
    "    else:\n",
    "        count = 0\n",
    "        for i in os.listdir(dirname):\n",
    "            if str(i).endswith('.doc') or str(i).endswith('.docx'):\n",
    "                print(\"The word document in the given directory is :\",i)\n",
    "                count += 1\n",
    "        else:\n",
    "            print(\"Done searching througout the Directory, there are {} word documents in the directory\".format(count))"
   ]
  },
  {
   "cell_type": "code",
   "execution_count": null,
   "id": "1b321e10",
   "metadata": {},
   "outputs": [],
   "source": [
    "filterWordFiles(\"E:\\iNeuron\\FSDSMyBatch\\Data\")"
   ]
  },
  {
   "cell_type": "markdown",
   "id": "4e0b9b32",
   "metadata": {},
   "source": [
    "### 19. Write a function by which you can print an ip address of your system ."
   ]
  },
  {
   "cell_type": "code",
   "execution_count": null,
   "id": "a6841b7c",
   "metadata": {},
   "outputs": [],
   "source": [
    "import socket\n",
    "def getip():\n",
    "    \"\"\"This function is used to fetch the ip address of the machine\"\"\"\n",
    "    result = {}\n",
    "    result['Hostname'] = socket.gethostname()\n",
    "    result['ip'] = socket.gethostbyname(result['Hostname'])\n",
    "    return result"
   ]
  },
  {
   "cell_type": "code",
   "execution_count": null,
   "id": "e8aa01f2",
   "metadata": {},
   "outputs": [],
   "source": [
    "getip()"
   ]
  },
  {
   "cell_type": "markdown",
   "id": "f4baff28",
   "metadata": {},
   "source": [
    "### 20. Write a function by which you will be able to append two PDF files."
   ]
  },
  {
   "cell_type": "code",
   "execution_count": null,
   "id": "4fcd2c3c",
   "metadata": {},
   "outputs": [],
   "source": [
    "import PyPDF2\n",
    "\n",
    "def pdfmerger(pdfs):\n",
    "    \"\"\"This function is used to merge two pdfs\n",
    "       pass the arguments as list of filenames\n",
    "       eg, [pdf1,pdf2]\n",
    "    \"\"\"\n",
    "    if type(pdfs) == list:\n",
    "        pdfMergerObject = PyPDF2.PdfFileMerger()\n",
    "        for file in pdfs:\n",
    "            pdfMergerObject.append(file)\n",
    "        with open(\"E:\\iNeuron\\FSDSMyBatch\\Data\\Output.pdf\",'wb') as f:\n",
    "            pdfMergerObject.write(f)\n",
    "    else:\n",
    "        return \"Sorry..!, I can handle only list of files\""
   ]
  },
  {
   "cell_type": "code",
   "execution_count": null,
   "id": "c6789797",
   "metadata": {},
   "outputs": [],
   "source": [
    "pdfmerger([\"E:\\iNeuron\\FSDSMyBatch\\Data\\PDF1.pdf\",\"E:\\iNeuron\\FSDSMyBatch\\Data\\PDF2.pdf\"])"
   ]
  },
  {
   "cell_type": "code",
   "execution_count": null,
   "id": "06781662",
   "metadata": {},
   "outputs": [],
   "source": []
  }
 ],
 "metadata": {
  "kernelspec": {
   "display_name": "Python 3",
   "language": "python",
   "name": "python3"
  },
  "language_info": {
   "codemirror_mode": {
    "name": "ipython",
    "version": 3
   },
   "file_extension": ".py",
   "mimetype": "text/x-python",
   "name": "python",
   "nbconvert_exporter": "python",
   "pygments_lexer": "ipython3",
   "version": "3.8.8"
  }
 },
 "nbformat": 4,
 "nbformat_minor": 5
}
